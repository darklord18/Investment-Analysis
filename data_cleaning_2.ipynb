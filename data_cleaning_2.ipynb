{
 "cells": [
  {
   "cell_type": "code",
   "execution_count": 40,
   "id": "d28331ad",
   "metadata": {},
   "outputs": [],
   "source": [
    "import pandas as pd\n",
    "import numpy as np\n",
    "import seaborn as sns\n",
    "import matplotlib.pyplot as plt\n",
    "pd.options.display.max_rows = 4000"
   ]
  },
  {
   "cell_type": "code",
   "execution_count": 6,
   "id": "757222a7",
   "metadata": {},
   "outputs": [],
   "source": [
    "#read the new, decoded csv files\n",
    "rounds = pd.read_csv(\"rounds_clean.csv\", encoding = \"ISO-8859-1\")\n",
    "companies = pd.read_csv(\"companies_clean.csv\", sep=\"\\t\", encoding = \"ISO-8859-1\")"
   ]
  },
  {
   "cell_type": "code",
   "execution_count": 8,
   "id": "ef384167",
   "metadata": {},
   "outputs": [
    {
     "name": "stdout",
     "output_type": "stream",
     "text": [
      "66368\n",
      "66368\n"
     ]
    }
   ],
   "source": [
    "# quickly verify that there are 66368 unique companies in both\n",
    "# and that only the same 66368 are present in both files\n",
    "\n",
    "print(len(companies.permalink.unique()))\n",
    "print(len(rounds.company_permalink.unique()))"
   ]
  },
  {
   "cell_type": "markdown",
   "id": "d0db24bf",
   "metadata": {},
   "source": [
    "## Missing Value Treatment\n",
    "\n",
    "Let's now move to missing value treatment. \n",
    "\n",
    "Let's have a look at the number of missing values in both the dataframes."
   ]
  },
  {
   "cell_type": "code",
   "execution_count": 9,
   "id": "73654120",
   "metadata": {},
   "outputs": [
    {
     "data": {
      "text/plain": [
       "permalink            0\n",
       "name                 1\n",
       "homepage_url      5058\n",
       "category_list     3148\n",
       "status               0\n",
       "country_code      6958\n",
       "state_code        8547\n",
       "region            8030\n",
       "city              8028\n",
       "founded_at       15221\n",
       "dtype: int64"
      ]
     },
     "execution_count": 9,
     "metadata": {},
     "output_type": "execute_result"
    }
   ],
   "source": [
    "#finding missing value in companies\n",
    "companies.isnull().sum()"
   ]
  },
  {
   "cell_type": "code",
   "execution_count": 10,
   "id": "dcb08c61",
   "metadata": {},
   "outputs": [
    {
     "data": {
      "text/plain": [
       "company_permalink              0\n",
       "funding_round_permalink        0\n",
       "funding_round_type             0\n",
       "funding_round_code         83809\n",
       "funded_at                      0\n",
       "raised_amount_usd          19990\n",
       "dtype: int64"
      ]
     },
     "execution_count": 10,
     "metadata": {},
     "output_type": "execute_result"
    }
   ],
   "source": [
    "# missing values in rounds df\n",
    "rounds.isnull().sum()"
   ]
  },
  {
   "cell_type": "markdown",
   "id": "d1cec06a",
   "metadata": {},
   "source": [
    "Since there are no misisng values in the permalink or company_permalink columns, let's merge the two and then work on the master dataframe."
   ]
  },
  {
   "cell_type": "code",
   "execution_count": 16,
   "id": "96f93e92",
   "metadata": {},
   "outputs": [],
   "source": [
    "#merging two df\n",
    "master=pd.merge(companies,rounds,how='inner',left_on='permalink',right_on='company_permalink')"
   ]
  },
  {
   "cell_type": "code",
   "execution_count": 17,
   "id": "5cb7b49a",
   "metadata": {},
   "outputs": [
    {
     "data": {
      "text/html": [
       "<div>\n",
       "<style scoped>\n",
       "    .dataframe tbody tr th:only-of-type {\n",
       "        vertical-align: middle;\n",
       "    }\n",
       "\n",
       "    .dataframe tbody tr th {\n",
       "        vertical-align: top;\n",
       "    }\n",
       "\n",
       "    .dataframe thead th {\n",
       "        text-align: right;\n",
       "    }\n",
       "</style>\n",
       "<table border=\"1\" class=\"dataframe\">\n",
       "  <thead>\n",
       "    <tr style=\"text-align: right;\">\n",
       "      <th></th>\n",
       "      <th>permalink</th>\n",
       "      <th>name</th>\n",
       "      <th>homepage_url</th>\n",
       "      <th>category_list</th>\n",
       "      <th>status</th>\n",
       "      <th>country_code</th>\n",
       "      <th>state_code</th>\n",
       "      <th>region</th>\n",
       "      <th>city</th>\n",
       "      <th>founded_at</th>\n",
       "      <th>company_permalink</th>\n",
       "      <th>funding_round_permalink</th>\n",
       "      <th>funding_round_type</th>\n",
       "      <th>funding_round_code</th>\n",
       "      <th>funded_at</th>\n",
       "      <th>raised_amount_usd</th>\n",
       "    </tr>\n",
       "  </thead>\n",
       "  <tbody>\n",
       "    <tr>\n",
       "      <th>0</th>\n",
       "      <td>/organization/-fame</td>\n",
       "      <td>#fame</td>\n",
       "      <td>http://livfame.com</td>\n",
       "      <td>Media</td>\n",
       "      <td>operating</td>\n",
       "      <td>IND</td>\n",
       "      <td>16</td>\n",
       "      <td>Mumbai</td>\n",
       "      <td>Mumbai</td>\n",
       "      <td>NaN</td>\n",
       "      <td>/organization/-fame</td>\n",
       "      <td>/funding-round/9a01d05418af9f794eebff7ace91f638</td>\n",
       "      <td>venture</td>\n",
       "      <td>B</td>\n",
       "      <td>05-01-2015</td>\n",
       "      <td>10000000.0</td>\n",
       "    </tr>\n",
       "    <tr>\n",
       "      <th>1</th>\n",
       "      <td>/organization/-qounter</td>\n",
       "      <td>:Qounter</td>\n",
       "      <td>http://www.qounter.com</td>\n",
       "      <td>Application Platforms|Real Time|Social Network...</td>\n",
       "      <td>operating</td>\n",
       "      <td>USA</td>\n",
       "      <td>DE</td>\n",
       "      <td>DE - Other</td>\n",
       "      <td>Delaware City</td>\n",
       "      <td>04-09-2014</td>\n",
       "      <td>/organization/-qounter</td>\n",
       "      <td>/funding-round/22dacff496eb7acb2b901dec1dfe5633</td>\n",
       "      <td>venture</td>\n",
       "      <td>A</td>\n",
       "      <td>14-10-2014</td>\n",
       "      <td>NaN</td>\n",
       "    </tr>\n",
       "    <tr>\n",
       "      <th>2</th>\n",
       "      <td>/organization/-qounter</td>\n",
       "      <td>:Qounter</td>\n",
       "      <td>http://www.qounter.com</td>\n",
       "      <td>Application Platforms|Real Time|Social Network...</td>\n",
       "      <td>operating</td>\n",
       "      <td>USA</td>\n",
       "      <td>DE</td>\n",
       "      <td>DE - Other</td>\n",
       "      <td>Delaware City</td>\n",
       "      <td>04-09-2014</td>\n",
       "      <td>/organization/-qounter</td>\n",
       "      <td>/funding-round/b44fbb94153f6cdef13083530bb48030</td>\n",
       "      <td>seed</td>\n",
       "      <td>NaN</td>\n",
       "      <td>01-03-2014</td>\n",
       "      <td>700000.0</td>\n",
       "    </tr>\n",
       "    <tr>\n",
       "      <th>3</th>\n",
       "      <td>/organization/-the-one-of-them-inc-</td>\n",
       "      <td>(THE) ONE of THEM,Inc.</td>\n",
       "      <td>http://oneofthem.jp</td>\n",
       "      <td>Apps|Games|Mobile</td>\n",
       "      <td>operating</td>\n",
       "      <td>NaN</td>\n",
       "      <td>NaN</td>\n",
       "      <td>NaN</td>\n",
       "      <td>NaN</td>\n",
       "      <td>NaN</td>\n",
       "      <td>/organization/-the-one-of-them-inc-</td>\n",
       "      <td>/funding-round/650b8f704416801069bb178a1418776b</td>\n",
       "      <td>venture</td>\n",
       "      <td>B</td>\n",
       "      <td>30-01-2014</td>\n",
       "      <td>3406878.0</td>\n",
       "    </tr>\n",
       "    <tr>\n",
       "      <th>4</th>\n",
       "      <td>/organization/0-6-com</td>\n",
       "      <td>0-6.com</td>\n",
       "      <td>http://www.0-6.com</td>\n",
       "      <td>Curated Web</td>\n",
       "      <td>operating</td>\n",
       "      <td>CHN</td>\n",
       "      <td>22</td>\n",
       "      <td>Beijing</td>\n",
       "      <td>Beijing</td>\n",
       "      <td>01-01-2007</td>\n",
       "      <td>/organization/0-6-com</td>\n",
       "      <td>/funding-round/5727accaeaa57461bd22a9bdd945382d</td>\n",
       "      <td>venture</td>\n",
       "      <td>A</td>\n",
       "      <td>19-03-2008</td>\n",
       "      <td>2000000.0</td>\n",
       "    </tr>\n",
       "  </tbody>\n",
       "</table>\n",
       "</div>"
      ],
      "text/plain": [
       "                             permalink                    name  \\\n",
       "0                  /organization/-fame                   #fame   \n",
       "1               /organization/-qounter                :Qounter   \n",
       "2               /organization/-qounter                :Qounter   \n",
       "3  /organization/-the-one-of-them-inc-  (THE) ONE of THEM,Inc.   \n",
       "4                /organization/0-6-com                 0-6.com   \n",
       "\n",
       "             homepage_url                                      category_list  \\\n",
       "0      http://livfame.com                                              Media   \n",
       "1  http://www.qounter.com  Application Platforms|Real Time|Social Network...   \n",
       "2  http://www.qounter.com  Application Platforms|Real Time|Social Network...   \n",
       "3     http://oneofthem.jp                                  Apps|Games|Mobile   \n",
       "4      http://www.0-6.com                                        Curated Web   \n",
       "\n",
       "      status country_code state_code      region           city  founded_at  \\\n",
       "0  operating          IND         16      Mumbai         Mumbai         NaN   \n",
       "1  operating          USA         DE  DE - Other  Delaware City  04-09-2014   \n",
       "2  operating          USA         DE  DE - Other  Delaware City  04-09-2014   \n",
       "3  operating          NaN        NaN         NaN            NaN         NaN   \n",
       "4  operating          CHN         22     Beijing        Beijing  01-01-2007   \n",
       "\n",
       "                     company_permalink  \\\n",
       "0                  /organization/-fame   \n",
       "1               /organization/-qounter   \n",
       "2               /organization/-qounter   \n",
       "3  /organization/-the-one-of-them-inc-   \n",
       "4                /organization/0-6-com   \n",
       "\n",
       "                           funding_round_permalink funding_round_type  \\\n",
       "0  /funding-round/9a01d05418af9f794eebff7ace91f638            venture   \n",
       "1  /funding-round/22dacff496eb7acb2b901dec1dfe5633            venture   \n",
       "2  /funding-round/b44fbb94153f6cdef13083530bb48030               seed   \n",
       "3  /funding-round/650b8f704416801069bb178a1418776b            venture   \n",
       "4  /funding-round/5727accaeaa57461bd22a9bdd945382d            venture   \n",
       "\n",
       "  funding_round_code   funded_at  raised_amount_usd  \n",
       "0                  B  05-01-2015         10000000.0  \n",
       "1                  A  14-10-2014                NaN  \n",
       "2                NaN  01-03-2014           700000.0  \n",
       "3                  B  30-01-2014          3406878.0  \n",
       "4                  A  19-03-2008          2000000.0  "
      ]
     },
     "execution_count": 17,
     "metadata": {},
     "output_type": "execute_result"
    }
   ],
   "source": [
    "master.head()"
   ]
  },
  {
   "cell_type": "markdown",
   "id": "c8eae912",
   "metadata": {},
   "source": [
    "Since the columns ```company_permalink``` and ```permalink``` are the same, let's remove one of them.\n"
   ]
  },
  {
   "cell_type": "code",
   "execution_count": 14,
   "id": "2ddef80b",
   "metadata": {},
   "outputs": [
    {
     "data": {
      "text/plain": [
       "Index(['permalink', 'name', 'homepage_url', 'category_list', 'status',\n",
       "       'country_code', 'state_code', 'region', 'city', 'founded_at',\n",
       "       'company_permalink', 'funding_round_permalink', 'funding_round_type',\n",
       "       'funding_round_code', 'funded_at', 'raised_amount_usd'],\n",
       "      dtype='object')"
      ]
     },
     "execution_count": 14,
     "metadata": {},
     "output_type": "execute_result"
    }
   ],
   "source": [
    "master.columns"
   ]
  },
  {
   "cell_type": "code",
   "execution_count": 20,
   "id": "3a0961ef",
   "metadata": {},
   "outputs": [],
   "source": [
    "# removing redundant columns\n",
    "master = master.drop(['company_permalink'],axis=1)"
   ]
  },
  {
   "cell_type": "code",
   "execution_count": 21,
   "id": "20e3cd24",
   "metadata": {},
   "outputs": [
    {
     "data": {
      "text/plain": [
       "Index(['permalink', 'name', 'homepage_url', 'category_list', 'status',\n",
       "       'country_code', 'state_code', 'region', 'city', 'founded_at',\n",
       "       'funding_round_permalink', 'funding_round_type', 'funding_round_code',\n",
       "       'funded_at', 'raised_amount_usd'],\n",
       "      dtype='object')"
      ]
     },
     "execution_count": 21,
     "metadata": {},
     "output_type": "execute_result"
    }
   ],
   "source": [
    "# look at columns after dropping\n",
    "master.columns"
   ]
  },
  {
   "cell_type": "code",
   "execution_count": 22,
   "id": "42d851b3",
   "metadata": {},
   "outputs": [
    {
     "data": {
      "text/plain": [
       "permalink                   0.00\n",
       "name                        0.00\n",
       "homepage_url                5.34\n",
       "category_list               2.97\n",
       "status                      0.00\n",
       "country_code                7.55\n",
       "state_code                  9.52\n",
       "region                      8.84\n",
       "city                        8.84\n",
       "founded_at                 17.85\n",
       "funding_round_permalink     0.00\n",
       "funding_round_type          0.00\n",
       "funding_round_code         72.91\n",
       "funded_at                   0.00\n",
       "raised_amount_usd          17.39\n",
       "dtype: float64"
      ]
     },
     "execution_count": 22,
     "metadata": {},
     "output_type": "execute_result"
    }
   ],
   "source": [
    "# summing up the missing values (column-wise) and displaying fraction of NaNs\n",
    "round(100*(master.isnull().sum()/len(master.index)), 2)"
   ]
  },
  {
   "cell_type": "markdown",
   "id": "6fe30fd5",
   "metadata": {},
   "source": [
    "Clearly, the column ```funding_round_code``` is useless (with about 73% missing values). Also, for the business objectives given, the columns ```homepage_url```, ```founded_at```, ```state_code```, ```region``` and ```city``` need not be used.\n",
    "\n",
    "Thus, let's drop these columns."
   ]
  },
  {
   "cell_type": "code",
   "execution_count": 25,
   "id": "b3e3c1cb",
   "metadata": {},
   "outputs": [],
   "source": [
    "master = master.drop(['funding_round_code','homepage_url','founded_at','state_code','region','city'],axis=1)"
   ]
  },
  {
   "cell_type": "code",
   "execution_count": 26,
   "id": "d2a6efc8",
   "metadata": {},
   "outputs": [
    {
     "data": {
      "text/plain": [
       "Index(['permalink', 'name', 'category_list', 'status', 'country_code',\n",
       "       'funding_round_permalink', 'funding_round_type', 'funded_at',\n",
       "       'raised_amount_usd'],\n",
       "      dtype='object')"
      ]
     },
     "execution_count": 26,
     "metadata": {},
     "output_type": "execute_result"
    }
   ],
   "source": [
    "master.columns"
   ]
  },
  {
   "cell_type": "code",
   "execution_count": 27,
   "id": "dec00c26",
   "metadata": {},
   "outputs": [
    {
     "data": {
      "text/plain": [
       "permalink                   0.00\n",
       "name                        0.00\n",
       "category_list               2.97\n",
       "status                      0.00\n",
       "country_code                7.55\n",
       "funding_round_permalink     0.00\n",
       "funding_round_type          0.00\n",
       "funded_at                   0.00\n",
       "raised_amount_usd          17.39\n",
       "dtype: float64"
      ]
     },
     "execution_count": 27,
     "metadata": {},
     "output_type": "execute_result"
    }
   ],
   "source": [
    "# summing up the missing values (column-wise) and displaying fraction of NaNs\n",
    "round(100*(master.isnull().sum()/len(master.index)), 2)"
   ]
  },
  {
   "cell_type": "markdown",
   "id": "fc8e90c1",
   "metadata": {},
   "source": [
    "Note that the column ```raised_amount_usd``` is an important column, since that is the number we want to analyse (compare, means, sum etc.). That needs to be carefully treated. \n",
    "\n",
    "Also, the column ```country_code``` will be used for country-wise analysis, and ```category_list``` will be used to merge the dataframe with the main categories.\n",
    "\n",
    "Let's first see how we can deal with missing values in ```raised_amount_usd```.\n"
   ]
  },
  {
   "cell_type": "code",
   "execution_count": 31,
   "id": "c08b6369",
   "metadata": {},
   "outputs": [
    {
     "data": {
      "text/plain": [
       "count    9.495900e+04\n",
       "mean     1.042687e+07\n",
       "std      1.148212e+08\n",
       "min      0.000000e+00\n",
       "25%      3.225000e+05\n",
       "50%      1.680511e+06\n",
       "75%      7.000000e+06\n",
       "max      2.127194e+10\n",
       "Name: raised_amount_usd, dtype: float64"
      ]
     },
     "execution_count": 31,
     "metadata": {},
     "output_type": "execute_result"
    }
   ],
   "source": [
    "# summary stats of raised_amount_usd\n",
    "master['raised_amount_usd'].describe()"
   ]
  },
  {
   "cell_type": "markdown",
   "id": "83a0844c",
   "metadata": {},
   "source": [
    "The mean is somewhere around USD 10 million, while the median is only about USD 1m. The min and max values are also miles apart. \n",
    "\n",
    "In general, since there is a huge spread in the funding amounts, it will be inappropriate to impute it with a metric such as median or mean. Also, since we have quite a large number of observations, it is wiser to just drop the rows. \n",
    "\n",
    "Let's thus remove the rows having NaNs in ```raised_amount_usd```."
   ]
  },
  {
   "cell_type": "code",
   "execution_count": 42,
   "id": "42fe59d2",
   "metadata": {},
   "outputs": [
    {
     "data": {
      "text/plain": [
       "permalink                  0.00\n",
       "name                       0.00\n",
       "category_list              1.10\n",
       "status                     0.00\n",
       "country_code               6.16\n",
       "funding_round_permalink    0.00\n",
       "funding_round_type         0.00\n",
       "funded_at                  0.00\n",
       "raised_amount_usd          0.00\n",
       "dtype: float64"
      ]
     },
     "execution_count": 42,
     "metadata": {},
     "output_type": "execute_result"
    }
   ],
   "source": [
    "# removing NaNs in raised_amount_usd\n",
    "master = master[~np.isnan(master['raised_amount_usd'])]\n",
    "round(100*(master.isnull().sum()/len(master.index)), 2)"
   ]
  },
  {
   "cell_type": "markdown",
   "id": "e1f010a6",
   "metadata": {},
   "source": [
    "Let's now look at the column ```country_code```. To see the distribution of the values for categorical variables, it is best to convert them into type 'category'."
   ]
  },
  {
   "cell_type": "code",
   "execution_count": 41,
   "id": "582d863c",
   "metadata": {
    "scrolled": true
   },
   "outputs": [
    {
     "data": {
      "text/plain": [
       "USA    62049\n",
       "GBR     5019\n",
       "CAN     2616\n",
       "CHN     1927\n",
       "IND     1649\n",
       "FRA     1451\n",
       "ISR     1364\n",
       "ESP     1074\n",
       "DEU     1042\n",
       "AUS      649\n",
       "RUS      588\n",
       "IRL      563\n",
       "SWE      560\n",
       "SGP      546\n",
       "NLD      532\n",
       "JPN      485\n",
       "BRA      483\n",
       "ITA      483\n",
       "CHE      437\n",
       "CHL      432\n",
       "KOR      432\n",
       "FIN      382\n",
       "DNK      314\n",
       "ARG      297\n",
       "BEL      293\n",
       "HKG      250\n",
       "TUR      196\n",
       "NOR      191\n",
       "BGR      190\n",
       "MEX      189\n",
       "AUT      152\n",
       "POL      146\n",
       "NZL      129\n",
       "EST      126\n",
       "PRT      101\n",
       "ARE       96\n",
       "MYS       95\n",
       "COL       94\n",
       "CZE       75\n",
       "PER       72\n",
       "ZAF       71\n",
       "IDN       66\n",
       "UKR       60\n",
       "THA       60\n",
       "TWN       60\n",
       "PHL       60\n",
       "LVA       58\n",
       "HUN       53\n",
       "NGA       50\n",
       "GRC       49\n",
       "LUX       46\n",
       "KEN       42\n",
       "LTU       39\n",
       "ROM       36\n",
       "EGY       34\n",
       "SVK       31\n",
       "CYP       31\n",
       "ISL       29\n",
       "VNM       27\n",
       "SVN       26\n",
       "PAK       26\n",
       "JOR       26\n",
       "LBN       25\n",
       "URY       21\n",
       "VEN       20\n",
       "SRB       19\n",
       "CYM       15\n",
       "UGA       15\n",
       "BGD       15\n",
       "TAN       13\n",
       "SAU       12\n",
       "GHA       12\n",
       "ECU       11\n",
       "HRV       10\n",
       "PAN       10\n",
       "MUS        8\n",
       "MLT        8\n",
       "BMU        8\n",
       "CRI        7\n",
       "BLR        6\n",
       "GTM        6\n",
       "GIB        6\n",
       "TTO        5\n",
       "BHR        5\n",
       "AZE        5\n",
       "MDA        4\n",
       "SLV        4\n",
       "MMR        4\n",
       "BWA        4\n",
       "GEO        4\n",
       "ARM        4\n",
       "NPL        4\n",
       "PRI        3\n",
       "RWA        3\n",
       "LKA        3\n",
       "LIE        3\n",
       "JAM        3\n",
       "CMR        3\n",
       "ZMB        2\n",
       "TUN        2\n",
       "ALB        2\n",
       "KHM        2\n",
       "MAR        2\n",
       "BAH        2\n",
       "BLZ        2\n",
       "CIV        2\n",
       "DOM        2\n",
       "KAZ        2\n",
       "KWT        2\n",
       "MAF        2\n",
       "ZWE        2\n",
       "NIC        2\n",
       "MCO        2\n",
       "SOM        1\n",
       "GGY        1\n",
       "QAT        1\n",
       "BLM        1\n",
       "OMN        1\n",
       "BRB        1\n",
       "UZB        1\n",
       "DMA        1\n",
       "MNE        1\n",
       "DZA        1\n",
       "GRD        1\n",
       "HND        1\n",
       "IRN        1\n",
       "MKD        1\n",
       "TGO        1\n",
       "PSE        1\n",
       "SYC        1\n",
       "KNA        1\n",
       "SEN        1\n",
       "LAO        1\n",
       "PRY        1\n",
       "Name: country_code, dtype: int64"
      ]
     },
     "execution_count": 41,
     "metadata": {},
     "output_type": "execute_result"
    }
   ],
   "source": [
    "country_codes=master.country_code.astype('category')\n",
    "# displaying frequencies of each category\n",
    "country_codes.value_counts()"
   ]
  },
  {
   "cell_type": "markdown",
   "id": "c5eb2c0c",
   "metadata": {},
   "source": [
    "By far, the most number of investments have happened in American countries. We can also see the fractions."
   ]
  },
  {
   "cell_type": "code",
   "execution_count": 43,
   "id": "e5592734",
   "metadata": {},
   "outputs": [
    {
     "data": {
      "text/plain": [
       "USA    65.342937\n",
       "GBR     5.285439\n",
       "CAN     2.754873\n",
       "CHN     2.029297\n",
       "IND     1.736539\n",
       "FRA     1.528028\n",
       "ISR     1.436409\n",
       "ESP     1.131014\n",
       "DEU     1.097316\n",
       "AUS     0.683453\n",
       "RUS     0.619215\n",
       "IRL     0.592887\n",
       "SWE     0.589728\n",
       "SGP     0.574985\n",
       "NLD     0.560242\n",
       "JPN     0.510747\n",
       "BRA     0.508641\n",
       "ITA     0.508641\n",
       "CHE     0.460199\n",
       "CHL     0.454933\n",
       "KOR     0.454933\n",
       "FIN     0.402279\n",
       "DNK     0.330669\n",
       "ARG     0.312767\n",
       "BEL     0.308554\n",
       "HKG     0.263272\n",
       "TUR     0.206405\n",
       "NOR     0.201139\n",
       "BGR     0.200086\n",
       "MEX     0.199033\n",
       "AUT     0.160069\n",
       "POL     0.153751\n",
       "NZL     0.135848\n",
       "EST     0.132689\n",
       "PRT     0.106362\n",
       "ARE     0.101096\n",
       "MYS     0.100043\n",
       "COL     0.098990\n",
       "CZE     0.078981\n",
       "PER     0.075822\n",
       "ZAF     0.074769\n",
       "IDN     0.069504\n",
       "UKR     0.063185\n",
       "THA     0.063185\n",
       "TWN     0.063185\n",
       "PHL     0.063185\n",
       "LVA     0.061079\n",
       "HUN     0.055814\n",
       "NGA     0.052654\n",
       "GRC     0.051601\n",
       "LUX     0.048442\n",
       "KEN     0.044230\n",
       "LTU     0.041070\n",
       "ROM     0.037911\n",
       "EGY     0.035805\n",
       "SVK     0.032646\n",
       "CYP     0.032646\n",
       "ISL     0.030539\n",
       "VNM     0.028433\n",
       "PAK     0.027380\n",
       "JOR     0.027380\n",
       "SVN     0.027380\n",
       "LBN     0.026327\n",
       "URY     0.022115\n",
       "VEN     0.021062\n",
       "SRB     0.020009\n",
       "BGD     0.015796\n",
       "CYM     0.015796\n",
       "UGA     0.015796\n",
       "TAN     0.013690\n",
       "SAU     0.012637\n",
       "GHA     0.012637\n",
       "ECU     0.011584\n",
       "HRV     0.010531\n",
       "PAN     0.010531\n",
       "MLT     0.008425\n",
       "MUS     0.008425\n",
       "BMU     0.008425\n",
       "CRI     0.007372\n",
       "GTM     0.006319\n",
       "BLR     0.006319\n",
       "GIB     0.006319\n",
       "AZE     0.005265\n",
       "TTO     0.005265\n",
       "BHR     0.005265\n",
       "MDA     0.004212\n",
       "BWA     0.004212\n",
       "ARM     0.004212\n",
       "GEO     0.004212\n",
       "MMR     0.004212\n",
       "NPL     0.004212\n",
       "SLV     0.004212\n",
       "LKA     0.003159\n",
       "RWA     0.003159\n",
       "JAM     0.003159\n",
       "LIE     0.003159\n",
       "PRI     0.003159\n",
       "CMR     0.003159\n",
       "MAF     0.002106\n",
       "MAR     0.002106\n",
       "BLZ     0.002106\n",
       "KHM     0.002106\n",
       "CIV     0.002106\n",
       "ZMB     0.002106\n",
       "NIC     0.002106\n",
       "DOM     0.002106\n",
       "TUN     0.002106\n",
       "KAZ     0.002106\n",
       "BAH     0.002106\n",
       "MCO     0.002106\n",
       "ZWE     0.002106\n",
       "ALB     0.002106\n",
       "KWT     0.002106\n",
       "SOM     0.001053\n",
       "PSE     0.001053\n",
       "LAO     0.001053\n",
       "GRD     0.001053\n",
       "MKD     0.001053\n",
       "BLM     0.001053\n",
       "SYC     0.001053\n",
       "PRY     0.001053\n",
       "IRN     0.001053\n",
       "OMN     0.001053\n",
       "UZB     0.001053\n",
       "DMA     0.001053\n",
       "BRB     0.001053\n",
       "KNA     0.001053\n",
       "DZA     0.001053\n",
       "QAT     0.001053\n",
       "HND     0.001053\n",
       "GGY     0.001053\n",
       "TGO     0.001053\n",
       "MNE     0.001053\n",
       "SEN     0.001053\n",
       "Name: country_code, dtype: float64"
      ]
     },
     "execution_count": 43,
     "metadata": {},
     "output_type": "execute_result"
    }
   ],
   "source": [
    "# viewing fractions of counts of country_codes\n",
    "100*(master['country_code'].value_counts()/len(master.index))\n"
   ]
  },
  {
   "cell_type": "markdown",
   "id": "3d678963",
   "metadata": {},
   "source": [
    "Now, we can either delete the rows having ```country_code``` missing (about 6% rows), or we can impute them by ```USA```. Since the number 6 is quite small, and we have a decent amount of data, it may be better to just remove the rows.\n",
    "\n",
    "**Note that** ```np.isnan``` does not work with arrays of type 'object', it only works with native numpy type (float). Thus, you can use ```pd.isnull()``` instead."
   ]
  },
  {
   "cell_type": "code",
   "execution_count": 44,
   "id": "4042d5b7",
   "metadata": {},
   "outputs": [
    {
     "data": {
      "text/plain": [
       "permalink                  0.00\n",
       "name                       0.00\n",
       "category_list              0.65\n",
       "status                     0.00\n",
       "country_code               0.00\n",
       "funding_round_permalink    0.00\n",
       "funding_round_type         0.00\n",
       "funded_at                  0.00\n",
       "raised_amount_usd          0.00\n",
       "dtype: float64"
      ]
     },
     "execution_count": 44,
     "metadata": {},
     "output_type": "execute_result"
    }
   ],
   "source": [
    "# removing rows with missing country_codes\n",
    "master = master[~pd.isnull(master['country_code'])]\n",
    "\n",
    "# look at missing values\n",
    "round(100*(master.isnull().sum()/len(master.index)), 2)"
   ]
  },
  {
   "cell_type": "markdown",
   "id": "ac2f7e87",
   "metadata": {},
   "source": [
    "Note that the fraction of missing values in the remaining dataframe has also reduced now - only 0.65% in ```category_list```. Let's thus remove those as well.\n",
    "\n",
    "**Note**\n",
    "Optionally, you could have simply let the missing values in the dataset and continued the analysis. There is nothing wrong with that. But in this case, since we will use that column later for merging with the 'main_categories', removing the missing values will be quite convenient (and again - we have enough data)."
   ]
  },
  {
   "cell_type": "code",
   "execution_count": 45,
   "id": "dc03d8b2",
   "metadata": {},
   "outputs": [],
   "source": [
    "#removing rows with missing Catrgory_list\n",
    "master =master[~pd.isnull(master.category_list)]"
   ]
  },
  {
   "cell_type": "code",
   "execution_count": 46,
   "id": "2ab84800",
   "metadata": {},
   "outputs": [
    {
     "data": {
      "text/plain": [
       "permalink                  0.0\n",
       "name                       0.0\n",
       "category_list              0.0\n",
       "status                     0.0\n",
       "country_code               0.0\n",
       "funding_round_permalink    0.0\n",
       "funding_round_type         0.0\n",
       "funded_at                  0.0\n",
       "raised_amount_usd          0.0\n",
       "dtype: float64"
      ]
     },
     "execution_count": 46,
     "metadata": {},
     "output_type": "execute_result"
    }
   ],
   "source": [
    "# look at missing values\n",
    "round(100*(master.isnull().sum()/len(master.index)), 2)"
   ]
  },
  {
   "cell_type": "code",
   "execution_count": 47,
   "id": "ff544b54",
   "metadata": {},
   "outputs": [],
   "source": [
    "# writing the clean dataframe to an another file\n",
    "master.to_csv(\"master_df.csv\", sep=',', index=False)"
   ]
  },
  {
   "cell_type": "code",
   "execution_count": 48,
   "id": "306e1fd4",
   "metadata": {},
   "outputs": [
    {
     "name": "stdout",
     "output_type": "stream",
     "text": [
      "<class 'pandas.core.frame.DataFrame'>\n",
      "Int64Index: 88529 entries, 0 to 114947\n",
      "Data columns (total 9 columns):\n",
      " #   Column                   Non-Null Count  Dtype  \n",
      "---  ------                   --------------  -----  \n",
      " 0   permalink                88529 non-null  object \n",
      " 1   name                     88528 non-null  object \n",
      " 2   category_list            88529 non-null  object \n",
      " 3   status                   88529 non-null  object \n",
      " 4   country_code             88529 non-null  object \n",
      " 5   funding_round_permalink  88529 non-null  object \n",
      " 6   funding_round_type       88529 non-null  object \n",
      " 7   funded_at                88529 non-null  object \n",
      " 8   raised_amount_usd        88529 non-null  float64\n",
      "dtypes: float64(1), object(8)\n",
      "memory usage: 6.8+ MB\n"
     ]
    }
   ],
   "source": [
    "# look at the master df info for number of rows etc.\n",
    "master.info()"
   ]
  },
  {
   "cell_type": "code",
   "execution_count": 49,
   "id": "6b40964d",
   "metadata": {},
   "outputs": [
    {
     "data": {
      "text/plain": [
       "77.01589400516751"
      ]
     },
     "execution_count": 49,
     "metadata": {},
     "output_type": "execute_result"
    }
   ],
   "source": [
    "# after missing value treatment, approx 77% observations are retained\n",
    "100*(len(master.index) / len(rounds.index))"
   ]
  },
  {
   "cell_type": "code",
   "execution_count": null,
   "id": "c56cd380",
   "metadata": {},
   "outputs": [],
   "source": []
  }
 ],
 "metadata": {
  "kernelspec": {
   "display_name": "Python 3 (ipykernel)",
   "language": "python",
   "name": "python3"
  },
  "language_info": {
   "codemirror_mode": {
    "name": "ipython",
    "version": 3
   },
   "file_extension": ".py",
   "mimetype": "text/x-python",
   "name": "python",
   "nbconvert_exporter": "python",
   "pygments_lexer": "ipython3",
   "version": "3.10.10"
  }
 },
 "nbformat": 4,
 "nbformat_minor": 5
}
